{
 "cells": [
  {
   "cell_type": "code",
   "execution_count": 86,
   "id": "71093cb9-2b6e-4d20-9e5f-0356963cd199",
   "metadata": {},
   "outputs": [
    {
     "name": "stderr",
     "output_type": "stream",
     "text": [
      "ibmqfactory.load_account:WARNING:2021-09-28 03:04:58,314: Credentials are already in use. The existing account in the session will be replaced.\n"
     ]
    }
   ],
   "source": [
    "import numpy as np\n",
    "\n",
    "# Importing standard Qiskit libraries\n",
    "from qiskit import QuantumCircuit, transpile, Aer, IBMQ\n",
    "from qiskit.tools.jupyter import *\n",
    "from qiskit.visualization import *\n",
    "from ibm_quantum_widgets import *\n",
    "from qiskit.providers.aer import QasmSimulator\n",
    "\n",
    "from qiskit import *\n",
    "\n",
    "# Loading your IBM Quantum account(s)\n",
    "provider = IBMQ.load_account()"
   ]
  },
  {
   "cell_type": "markdown",
   "id": "8a680752-c47a-43ca-ac50-52350f6e8130",
   "metadata": {
    "tags": []
   },
   "source": [
    "<div align=center class=\"alert alert-block alert-success\">\n",
    "    <h1>IQOSF Mentorship Program:</h1>\n",
    "        <h1>Task 1</h1>\n",
    "    <h2>Abdiel Guerrero V. </h2>\n",
    "</div>"
   ]
  },
  {
   "cell_type": "markdown",
   "id": "e8749521-b69d-4fb7-abcd-c851895d17b8",
   "metadata": {},
   "source": [
    "<div align=center class=\"alert alert-block alert-info\">\n",
    "    <h1>Table of Contents</h1>\n",
    "</div>\n",
    "\n",
    "| |\n",
    "|:-|\n",
    "|    [Problem](#Problem)|\n",
    "|[Example 1](#Example_1)|\n",
    "|[Defining a strategy](#Estr)|\n",
    "|[1. Input Vector](#Inp_Vec)|\n",
    "|[2. Convert into binary representation](#Bin_rep)|\n",
    "|[3. Encoding Data](#Encod_data)|\n",
    "|[3.1 Creating a qRAM](#Create_qRAM)|\n",
    "|[3.2 Grover's Algorithm](#Grover)|"
   ]
  },
  {
   "cell_type": "markdown",
   "id": "16d6a316-2894-4614-948b-cfba47ce37fb",
   "metadata": {},
   "source": [
    "---"
   ]
  },
  {
   "cell_type": "markdown",
   "id": "e5c09d07-902a-4197-9566-0c6590ba8624",
   "metadata": {
    "tags": []
   },
   "source": [
    "<h1><a  style=\"color:#A510E5;\" id='Problem'>Problem</a></h1>"
   ]
  },
  {
   "cell_type": "markdown",
   "id": "4337573c-14f2-4a2e-93c8-8d6eb75cf51a",
   "metadata": {},
   "source": [
    "Design a quantum circuit that considers as input the following vector of integers numbers:"
   ]
  },
  {
   "cell_type": "markdown",
   "id": "0fa512ef-3a37-4623-bbfc-ddd652a8cf4c",
   "metadata": {},
   "source": [
    "$$\n",
    "\\begin{bmatrix}\n",
    "1 & 5 & 7 & 10\n",
    "\\end{bmatrix}\n",
    "$$"
   ]
  },
  {
   "cell_type": "markdown",
   "id": "22eb221d-34e2-4b78-bfd4-615cb99e3bd1",
   "metadata": {},
   "source": [
    "returns a quantum state which is a superposition of indices of the target solution, <code style=\"background:pink;color:black\">obtaining in the output the indices of the imputs where two adjacent bits will always have different values</code>. In this case the output should be:\n",
    "\n",
    "$$\n",
    "\\frac{1}{\\sqrt{2}} \\big( |01\\rangle + |11 \\rangle  \\big)\n",
    "$$\n",
    "\n",
    ",as the correct indices are 1 and 3.\n",
    "\n",
    "`[0]`: 1 = 0001\n",
    "\n",
    "`[1]`: 5 = 0101\n",
    "\n",
    "`[2]`: 7 = 0111\n",
    "\n",
    "`[3]`: 10 = 1010"
   ]
  },
  {
   "cell_type": "markdown",
   "id": "e8dbc5d3-e22b-4737-b295-f01957fc3ccd",
   "metadata": {},
   "source": [
    "The method to follow for this task is to start from an array of integers as input, pass them to a binary representation and you need to find those integers whose binary representation is such that two adjacent bits are different. Once you have found those integers, you must output a superposition of states where each state is a binary representation of the indices of those integers."
   ]
  },
  {
   "cell_type": "markdown",
   "id": "215b9b4b-44ac-41b4-89c1-ec96a361c85e",
   "metadata": {},
   "source": [
    "---"
   ]
  },
  {
   "cell_type": "markdown",
   "id": "19cef01c-881d-4e32-8777-dfa5c151ea03",
   "metadata": {},
   "source": [
    "<h2><a style=\"color:#C868C6\", id='Example_1'>Example 1</a></h2>"
   ]
  },
  {
   "cell_type": "markdown",
   "id": "cd40cc5a-a3a6-4bc1-a7bb-481884b4a5ff",
   "metadata": {},
   "source": [
    "1. Consider the vector \n",
    "$\n",
    "\\begin{bmatrix}\n",
    "1 & 5 & 4 & 2\n",
    "\\end{bmatrix}\n",
    "$"
   ]
  },
  {
   "cell_type": "markdown",
   "id": "61019c05-1f3b-4c8e-b60c-513c0f16863f",
   "metadata": {},
   "source": [
    "2. Pass the integer values to binary numbers that is `[001, 101, 100, 010]`"
   ]
  },
  {
   "cell_type": "markdown",
   "id": "46a2a80d-38db-410f-8144-5314d1d4025f",
   "metadata": {},
   "source": [
    "3. Returns the linear combination of the indices in which the values satisfying the criteria are found.\n",
    "\n",
    "$$\n",
    "[0] \\implies 001 \\\\ \n",
    "[1] \\implies 101 \\\\ \n",
    "[2] \\implies 100 \\\\ \n",
    "[3] \\implies 010 \n",
    "$$"
   ]
  },
  {
   "cell_type": "markdown",
   "id": "67bae14d-545a-45c8-bf51-c195c59007ff",
   "metadata": {},
   "source": [
    "4. Indices are converted to binary states:\n",
    "\n",
    "$$\n",
    "001 \\implies |00\\rangle \\\\ \n",
    "101 \\implies |01\\rangle \\\\ \n",
    "100 \\implies |10\\rangle \\\\ \n",
    "010 \\implies |11\\rangle \\\\ \n",
    "$$"
   ]
  },
  {
   "cell_type": "markdown",
   "id": "10db1a53-e131-47f0-9352-6e1b56ef21d5",
   "metadata": {},
   "source": [
    "5. Therefore, the answer would be the superposition of the state $|01 \\rangle$ and $|11\\rangle$, it means\n",
    "\n",
    "$$\n",
    "\\frac{1}{\\sqrt{2}}\\bigg(\\big| 01\\big\\rangle + \\big|11\\big \\rangle \\bigg)\n",
    "$$"
   ]
  },
  {
   "cell_type": "markdown",
   "id": "ab297fbe-0042-4a50-9339-f9568424f664",
   "metadata": {},
   "source": [
    "---"
   ]
  },
  {
   "cell_type": "markdown",
   "id": "9842cbc7-6575-4228-9b47-752f41902280",
   "metadata": {
    "tags": []
   },
   "source": [
    "<h1><a style=\"color:#A510E5\", id='Estr'>Defining a strategy</a></h1>"
   ]
  },
  {
   "cell_type": "markdown",
   "id": "c0311824-ba58-46c0-871d-aa6fc38f2278",
   "metadata": {},
   "source": [
    "<h2><a style=\"color:#C868C6\", id='Inp_Vec'>1. Input Vector</a></h2>"
   ]
  },
  {
   "cell_type": "markdown",
   "id": "6a8b16b8-ac2a-457e-b50f-18cb01c5de21",
   "metadata": {},
   "source": [
    "First of all, we need to obtain our input vector. In this case, the vector is `[1, 5, 7, 10]`"
   ]
  },
  {
   "cell_type": "code",
   "execution_count": 151,
   "id": "47d3c3a1-e418-4582-bda0-89a5720a7cda",
   "metadata": {},
   "outputs": [
    {
     "name": "stdout",
     "output_type": "stream",
     "text": [
      "[ 1  5  7 10]\n"
     ]
    }
   ],
   "source": [
    "v = np.array([1,\n",
    "              5,\n",
    "              7,\n",
    "             10])\n",
    "print(v)"
   ]
  },
  {
   "cell_type": "markdown",
   "id": "d775e7a0-fe79-4c86-b6af-8c1e02c48cf3",
   "metadata": {},
   "source": [
    "<h2><a style=\"color:#C868C6\",  id='Bin_rep'>2. Convert into binary representation</a></h2>"
   ]
  },
  {
   "cell_type": "markdown",
   "id": "e83210cd-165b-4dd6-9f13-d2cc8c7eacfb",
   "metadata": {},
   "source": [
    "Then, we need to convert the previous vector into a binary form."
   ]
  },
  {
   "cell_type": "code",
   "execution_count": 152,
   "id": "b29c6c5a-621a-4b71-8cef-01fe9abf3fd6",
   "metadata": {},
   "outputs": [
    {
     "data": {
      "text/plain": [
       "['1', '101', '111', '1010']"
      ]
     },
     "execution_count": 152,
     "metadata": {},
     "output_type": "execute_result"
    }
   ],
   "source": [
    "vals_ = []\n",
    "for i in v:\n",
    "    vals_.append((bin(i)[2:]))\n",
    "vals_"
   ]
  },
  {
   "cell_type": "markdown",
   "id": "f26565f6-9652-42d1-b387-009f25bf3cec",
   "metadata": {},
   "source": [
    "remember that each element in the list will be related with his index when we will construct our quantum circuit."
   ]
  },
  {
   "cell_type": "code",
   "execution_count": 153,
   "id": "fb576587-a9bd-4ad6-810e-3952b4a1e9d8",
   "metadata": {},
   "outputs": [
    {
     "name": "stdout",
     "output_type": "stream",
     "text": [
      "Value: 1 , Indices: 0\n",
      "Value: 101 , Indices: 1\n",
      "Value: 111 , Indices: 2\n",
      "Value: 1010 , Indices: 3\n"
     ]
    }
   ],
   "source": [
    "for i in vals_:\n",
    "    print(f'Value: {i} , Indices: {vals_.index(i)}')"
   ]
  },
  {
   "cell_type": "markdown",
   "id": "0299bdf5-1f42-48a7-8923-7a9dd0b09b54",
   "metadata": {},
   "source": [
    "---"
   ]
  },
  {
   "cell_type": "markdown",
   "id": "55919728-33f7-4a75-a2de-212c54222f44",
   "metadata": {},
   "source": [
    "<h2><a style=\"color:#C868C6\",  id='Encod_data'>3. Encoding Data</a></h2>"
   ]
  },
  {
   "cell_type": "markdown",
   "id": "e4d1aa15-3cd3-4f1b-83d3-bf42bedb40c7",
   "metadata": {},
   "source": [
    "Each element of our input vector will be associated with an index and a quantum state in the Quantum Circuit in the next way:"
   ]
  },
  {
   "cell_type": "markdown",
   "id": "5affc289-6ef7-466b-9389-f0ff400e602e",
   "metadata": {},
   "source": [
    "$$\n",
    "\\begin{aligned}\n",
    "1  \\implies 1    &\\implies  [0] \\implies |00 \\rangle \\\\ \n",
    "5  \\implies 101  &\\implies  [1] \\implies |01 \\rangle \\\\\n",
    "7  \\implies 111  &\\implies  [2] \\implies |10 \\rangle \\\\\n",
    "10 \\implies 1010 &\\implies [3] \\implies |11 \\rangle \\\\\n",
    "\\end{aligned}\n",
    "$$"
   ]
  },
  {
   "cell_type": "markdown",
   "id": "19689d2d-1321-4bb5-9aab-ace02dc15376",
   "metadata": {},
   "source": [
    "In this case, we will need  2 qubits to encode our data directions, i.e. ($|00\\rangle$, $|01\\rangle$, $\\cdots$); and $2^2$ qubits to express our binary values, the necessary ones to construct our next qRAM ."
   ]
  },
  {
   "cell_type": "markdown",
   "id": "b187f439-7737-47fb-81a9-214e760f4781",
   "metadata": {},
   "source": [
    "The premise that our quantum circuit needs is try to find those integers whose binary representation are such that, two adjacent bits, representing our binary values; be different."
   ]
  },
  {
   "cell_type": "markdown",
   "id": "02d8fb79-9486-4314-99c3-dda94975d71d",
   "metadata": {},
   "source": [
    "$$\n",
    "\\begin{aligned}\n",
    "1    &\\implies  0001 \\implies |00 \\rangle \\\\ \n",
    "101  &\\implies  0101 \\implies |01 \\rangle \\\\\n",
    "111  &\\implies  0111 \\implies |10 \\rangle \\\\\n",
    "1010 &\\implies  1010 \\implies |11 \\rangle \\\\\n",
    "\\end{aligned}\n",
    "$$"
   ]
  },
  {
   "cell_type": "markdown",
   "id": "1a0edf6a-e532-4dbe-8631-5b55a0e068eb",
   "metadata": {},
   "source": [
    "so, we will fill our data with zeros to the left side:"
   ]
  },
  {
   "cell_type": "code",
   "execution_count": 154,
   "id": "8ccb7f0f-ee90-4f40-9dc1-4f490df3bf32",
   "metadata": {},
   "outputs": [
    {
     "data": {
      "text/plain": [
       "['0001', '0101', '0111', '1010']"
      ]
     },
     "execution_count": 154,
     "metadata": {},
     "output_type": "execute_result"
    }
   ],
   "source": [
    "for i in range(4):\n",
    "    vals_[i] = vals_[i].zfill(4)\n",
    "vals_"
   ]
  },
  {
   "cell_type": "markdown",
   "id": "64312238-4f9e-473f-9eb6-770ad05e496b",
   "metadata": {},
   "source": [
    "Remember that we need the superposition of the states which accomplish the condition, so we need to put it into a superposition before to pass to the encoding part."
   ]
  },
  {
   "cell_type": "code",
   "execution_count": 155,
   "id": "7e4bc9cc-2515-44ff-8118-e4181402c53f",
   "metadata": {},
   "outputs": [
    {
     "data": {
      "image/png": "[encoded data removed]",
      "text/plain": [
       "<Figure size 238.151x385.28 with 1 Axes>"
      ]
     },
     "execution_count": 155,
     "metadata": {},
     "output_type": "execute_result"
    }
   ],
   "source": [
    "index_reg = QuantumRegister(2, name='indx')\n",
    "bin_vals  = QuantumRegister(4, name='bin')\n",
    "qc = QuantumCircuit(index_reg,bin_vals)\n",
    "\n",
    "qc.h(index_reg)\n",
    "qc.barrier(index_reg)\n",
    "\n",
    "qc.draw('mpl')"
   ]
  },
  {
   "cell_type": "markdown",
   "id": "2b13afaf-c7ab-4a42-9194-4475a9311462",
   "metadata": {},
   "source": [
    "then, we introduce our encoding part trying to obtain the output\n",
    "\n",
    "$$\n",
    "\\frac{1}{2} \n",
    "\\bigg( \n",
    "|00\\rangle |0001\\rangle +\n",
    "|01\\rangle |0101\\rangle + \n",
    "|10\\rangle |0111\\rangle + \n",
    "|11\\rangle |1010\\rangle  \\bigg)\n",
    "$$"
   ]
  },
  {
   "cell_type": "markdown",
   "id": "db4488f5-df8a-433e-a235-2bd39aae21c4",
   "metadata": {},
   "source": [
    "To be able to make this search trying to find the states whose binary representation accomplish the condition, <code style=\"background:pink;color:black\">we will use a qRAM and Grover's algorithm to perform this search over a subset of our possible states</code>."
   ]
  },
  {
   "cell_type": "markdown",
   "id": "aadbc348-babe-41d9-a925-af9f888137a9",
   "metadata": {},
   "source": [
    "<table>\n",
    "    <tr>\n",
    "        <th>\n",
    "            <img src=\"https://i.imgur.com/PgFtlgq.png\" width=\"384px\"/>\n",
    "        </th>\n",
    "    </tr>\n",
    "    <tr>\n",
    "        <th>\n",
    "            Our expected qRAM \n",
    "        </th>\n",
    "    </tr>\n",
    "</table>"
   ]
  },
  {
   "cell_type": "markdown",
   "id": "c7160a15-09e0-4217-92d5-7754b72f789c",
   "metadata": {},
   "source": [
    "where,"
   ]
  },
  {
   "cell_type": "markdown",
   "id": "b87e9380-ab0f-437a-9836-26f6ea71ab59",
   "metadata": {},
   "source": [
    "<table>\n",
    "    <tr>\n",
    "        <th>\n",
    "            <img src=\"https://i.imgur.com/cpIFA4N.png\" width=\"384px\"/>\n",
    "        </th>\n",
    "    </tr>\n",
    "    <tr>\n",
    "        <th>\n",
    "            Equivalence\n",
    "        </th>\n",
    "    </tr>\n",
    "</table>"
   ]
  },
  {
   "cell_type": "markdown",
   "id": "d751517d-4e5b-4240-ace9-021e8348c2b3",
   "metadata": {
    "jp-MarkdownHeadingCollapsed": true,
    "tags": []
   },
   "source": [
    "<h2><a style=\"color:#C868C6\",  id='Create_qRAM'>3.1 Creating qRAM</a></h2>"
   ]
  },
  {
   "cell_type": "code",
   "execution_count": 467,
   "id": "4baf2f7c-5305-4d1f-913d-c44cbee4ebe1",
   "metadata": {},
   "outputs": [
    {
     "name": "stdout",
     "output_type": "stream",
     "text": [
      "['0001', '0101', '0111', '1010']\n"
     ]
    }
   ],
   "source": [
    "print(vals_)"
   ]
  },
  {
   "cell_type": "code",
   "execution_count": 481,
   "id": "22b297d4-ef0a-4a8b-a698-2e32c9aa18b4",
   "metadata": {},
   "outputs": [
    {
     "name": "stdout",
     "output_type": "stream",
     "text": [
      "00\n",
      "j: 0, val: 0, counter: 3\n",
      "j: 1, val: 0, counter: 2\n",
      "j: 2, val: 0, counter: 1\n",
      "j: 3, val: 1, counter: 0\n",
      "01\n",
      "j: 0, val: 0, counter: 3\n",
      "j: 1, val: 1, counter: 2\n",
      "j: 2, val: 0, counter: 1\n",
      "j: 3, val: 1, counter: 0\n",
      "10\n",
      "j: 0, val: 0, counter: 3\n",
      "j: 1, val: 1, counter: 2\n",
      "j: 2, val: 1, counter: 1\n",
      "j: 3, val: 1, counter: 0\n",
      "11\n",
      "j: 0, val: 1, counter: 3\n",
      "j: 1, val: 0, counter: 2\n",
      "j: 2, val: 1, counter: 1\n",
      "j: 3, val: 0, counter: 0\n"
     ]
    },
    {
     "data": {
      "image/png": "[encoded data removed]",
      "text/plain": [
       "<Figure size 1584.33x385.28 with 1 Axes>"
      ]
     },
     "execution_count": 481,
     "metadata": {},
     "output_type": "execute_result"
    }
   ],
   "source": [
    "address_reg = QuantumRegister(np.sqrt(len(vals_)), name='indx')\n",
    "binary_reg  = QuantumRegister(len(vals_), name='binary')\n",
    "\n",
    "qc = QuantumCircuit(address_reg,binary_reg)\n",
    "\n",
    "n = len(vals_)\n",
    "\n",
    "for indx in range(n):\n",
    "    \n",
    "    # Create adrress indices\n",
    "    bin_indx = bin(4 + indx)[-2:]\n",
    "    print(bin_indx)\n",
    "    \n",
    "    count = len(vals_[indx])-1\n",
    "    for j, val in enumerate(vals_[indx]):\n",
    "        print(f'j: {j}, val: {val}, counter: {count}')\n",
    "        \n",
    "        if val == '1':\n",
    "            if bin_indx[0] == '0':\n",
    "                qc.x(0)\n",
    "            if bin_indx[1] == '0':\n",
    "                qc.x(1)\n",
    "            qc.ccx(0,1, binary_reg[count])\n",
    "            if bin_indx[0] == '0':\n",
    "                qc.x(0)\n",
    "            if bin_indx[1] == '0':\n",
    "                qc.x(1)\n",
    "        count = count -1\n",
    "    qc.barrier()\n",
    "\n",
    "qc.draw('mpl')    "
   ]
  },
  {
   "cell_type": "markdown",
   "id": "fe5237d8-9354-4817-8b00-269204712ada",
   "metadata": {},
   "source": [
    "once we check that it is the circuit that we expect, we will put all within a function that returns a gate."
   ]
  },
  {
   "cell_type": "code",
   "execution_count": 482,
   "id": "8c98ab3a-5da4-4a80-b584-8fecc2586a02",
   "metadata": {},
   "outputs": [],
   "source": [
    "def q_RAM(n, reg_1, reg_2):\n",
    "    \n",
    "    qc = QuantumCircuit(reg_1,reg_2)\n",
    "    for indx in range(n):\n",
    "\n",
    "        # Create adrress indices\n",
    "        bin_indx = bin(4 + indx)[-2:]\n",
    "\n",
    "        count = len(vals_[indx])-1\n",
    "        for j, val in enumerate(vals_[indx]):        \n",
    "            if val == '1':\n",
    "                if bin_indx[0] == '0':\n",
    "                    qc.x(0)\n",
    "                if bin_indx[1] == '0':\n",
    "                    qc.x(1)\n",
    "                qc.ccx(0,1, reg_2[count])\n",
    "                if bin_indx[0] == '0':\n",
    "                    qc.x(0)\n",
    "                if bin_indx[1] == '0':\n",
    "                    qc.x(1)\n",
    "            count = count -1 \n",
    "    gate = qc.to_gate()\n",
    "    gate.name = 'qRAM'\n",
    "    return gate  "
   ]
  },
  {
   "cell_type": "code",
   "execution_count": 483,
   "id": "35f4d82a-14b3-403d-8847-239be75719ef",
   "metadata": {},
   "outputs": [
    {
     "data": {
      "image/png": "[encoded data removed]",
      "text/plain": [
       "<Figure size 380.331x385.28 with 1 Axes>"
      ]
     },
     "execution_count": 483,
     "metadata": {},
     "output_type": "execute_result"
    }
   ],
   "source": [
    "address_reg_ = QuantumRegister(np.sqrt(len(vals_)), name='indx')\n",
    "binary_reg_  = QuantumRegister(len(vals_), name='binary')\n",
    "qc_ = QuantumCircuit(address_reg,binary_reg)\n",
    "n = len(vals_)\n",
    "\n",
    "\n",
    "qc_.h(address_reg)\n",
    "qc_.barrier()\n",
    "\n",
    "\n",
    "qc_.append( q_RAM(n_, address_reg_, binary_reg_), range(6) )\n",
    "qc_.draw('mpl')"
   ]
  },
  {
   "cell_type": "markdown",
   "id": "0df4b37b-1d77-4c72-9731-12be096f501e",
   "metadata": {},
   "source": [
    "<h2><a style=\"color:#C868C6\",  id='Grover'>3.2 Grover's Algorithm</a></h2>"
   ]
  },
  {
   "cell_type": "code",
   "execution_count": null,
   "id": "f06ff123-0ef7-451f-8b66-d82676163e88",
   "metadata": {},
   "outputs": [],
   "source": []
  },
  {
   "cell_type": "code",
   "execution_count": null,
   "id": "e4e056fd-2278-4d4b-a215-bf60c23cb45e",
   "metadata": {},
   "outputs": [],
   "source": []
  }
 ],
 "metadata": {
  "kernelspec": {
   "display_name": "Qiskit v0.30.0 (ipykernel)",
   "language": "python",
   "name": "python3"
  },
  "language_info": {
   "codemirror_mode": {
    "name": "ipython",
    "version": 3
   },
   "file_extension": ".py",
   "mimetype": "text/x-python",
   "name": "python",
   "nbconvert_exporter": "python",
   "pygments_lexer": "ipython3",
   "version": "3.8.10"
  },
  "widgets": {
   "application/vnd.jupyter.widget-state+json": {
    "state": {
     "03011b424d1c48ceb22c71519431c2d7": {
      "model_module": "@jupyter-widgets/controls",
      "model_module_version": "1.5.0",
      "model_name": "DescriptionStyleModel",
      "state": {
       "description_width": ""
      }
     },
     "20b7a514015f4cb4be98bf15a1599131": {
      "model_module": "@jupyter-widgets/controls",
      "model_module_version": "1.5.0",
      "model_name": "HTMLModel",
      "state": {
       "layout": "IPY_MODEL_8232c238e67a4941a753b06771a2cce3",
       "style": "IPY_MODEL_82a9f43bb95c486a91274664512d9e5e",
       "value": "<h5>Backend</h5>"
      }
     },
     "375140ad718d47b1ad0e4d53f484212b": {
      "model_module": "@jupyter-widgets/controls",
      "model_module_version": "1.5.0",
      "model_name": "ButtonModel",
      "state": {
       "button_style": "primary",
       "description": "Clear",
       "layout": "IPY_MODEL_776ff339e9564f78ab478f6aeee24aca",
       "style": "IPY_MODEL_cc4f17ef3a6141e990b0ae788158b116"
      }
     },
     "5b5b6a6a5793463eabad280b924ec126": {
      "model_module": "@jupyter-widgets/controls",
      "model_module_version": "1.5.0",
      "model_name": "HTMLModel",
      "state": {
       "layout": "IPY_MODEL_af5ee3e86a19466f839e77feccf453b7",
       "style": "IPY_MODEL_03011b424d1c48ceb22c71519431c2d7",
       "value": "<h5>Message</h5>"
      }
     },
     "5e5c9b1ac4e846af9708b2f4c9a75082": {
      "model_module": "@jupyter-widgets/controls",
      "model_module_version": "1.5.0",
      "model_name": "GridBoxModel",
      "state": {
       "children": [
        "IPY_MODEL_375140ad718d47b1ad0e4d53f484212b"
       ],
       "layout": "IPY_MODEL_b01fc564bab146aa851e3c724987c2a8"
      }
     },
     "7650526359444e97a5991c1fb99935ea": {
      "model_module": "@jupyter-widgets/base",
      "model_module_version": "1.2.0",
      "model_name": "LayoutModel",
      "state": {
       "margin": "0px 0px 10px 0px"
      }
     },
     "772d97395a0641c794da7fa817603453": {
      "model_module": "@jupyter-widgets/controls",
      "model_module_version": "1.5.0",
      "model_name": "DescriptionStyleModel",
      "state": {
       "description_width": ""
      }
     },
     "776ff339e9564f78ab478f6aeee24aca": {
      "model_module": "@jupyter-widgets/base",
      "model_module_version": "1.2.0",
      "model_name": "LayoutModel",
      "state": {
       "grid_area": "right",
       "padding": "0px 0px 0px 0px",
       "width": "70px"
      }
     },
     "79be38ccbd6747a79a8eddc5488616b5": {
      "model_module": "@jupyter-widgets/base",
      "model_module_version": "1.2.0",
      "model_name": "LayoutModel",
      "state": {
       "width": "95px"
      }
     },
     "8103d04152f14fc19be5f68a21586bb8": {
      "model_module": "@jupyter-widgets/controls",
      "model_module_version": "1.5.0",
      "model_name": "DescriptionStyleModel",
      "state": {
       "description_width": ""
      }
     },
     "8232c238e67a4941a753b06771a2cce3": {
      "model_module": "@jupyter-widgets/base",
      "model_module_version": "1.2.0",
      "model_name": "LayoutModel",
      "state": {
       "width": "145px"
      }
     },
     "82a9f43bb95c486a91274664512d9e5e": {
      "model_module": "@jupyter-widgets/controls",
      "model_module_version": "1.5.0",
      "model_name": "DescriptionStyleModel",
      "state": {
       "description_width": ""
      }
     },
     "991d7bf071e248c884df14e18dc252b0": {
      "model_module": "@jupyter-widgets/controls",
      "model_module_version": "1.5.0",
      "model_name": "HTMLModel",
      "state": {
       "layout": "IPY_MODEL_d4f78cc70dad4c70882ee87dbac19b8d",
       "style": "IPY_MODEL_772d97395a0641c794da7fa817603453",
       "value": "<h5>Job ID</h5>"
      }
     },
     "9d4b837952e54447afe6ee5a212af65a": {
      "model_module": "@jupyter-widgets/controls",
      "model_module_version": "1.5.0",
      "model_name": "HTMLModel",
      "state": {
       "layout": "IPY_MODEL_79be38ccbd6747a79a8eddc5488616b5",
       "style": "IPY_MODEL_f7b25d2e0f644d52818c248678da633f",
       "value": "<h5>Status</h5>"
      }
     },
     "af5ee3e86a19466f839e77feccf453b7": {
      "model_module": "@jupyter-widgets/base",
      "model_module_version": "1.2.0",
      "model_name": "LayoutModel",
      "state": {}
     },
     "b01fc564bab146aa851e3c724987c2a8": {
      "model_module": "@jupyter-widgets/base",
      "model_module_version": "1.2.0",
      "model_name": "LayoutModel",
      "state": {
       "grid_template_areas": "\n                                       \". . . . right \"\n                                        ",
       "grid_template_columns": "20% 20% 20% 20% 20%",
       "width": "100%"
      }
     },
     "bcc7cb70c7b34440b72c75f48861a880": {
      "model_module": "@jupyter-widgets/controls",
      "model_module_version": "1.5.0",
      "model_name": "DescriptionStyleModel",
      "state": {
       "description_width": ""
      }
     },
     "bec9e809cf774e4c851f4d5e35f52f30": {
      "model_module": "@jupyter-widgets/controls",
      "model_module_version": "1.5.0",
      "model_name": "HBoxModel",
      "state": {
       "children": [
        "IPY_MODEL_991d7bf071e248c884df14e18dc252b0",
        "IPY_MODEL_20b7a514015f4cb4be98bf15a1599131",
        "IPY_MODEL_9d4b837952e54447afe6ee5a212af65a",
        "IPY_MODEL_fb9bbffa557749d693398d0723b412f3",
        "IPY_MODEL_5b5b6a6a5793463eabad280b924ec126"
       ],
       "layout": "IPY_MODEL_fd33183ee8d24d95a854c651e4726d04"
      }
     },
     "c48703463f484fd6b3d3e78324509d76": {
      "model_module": "@jupyter-widgets/base",
      "model_module_version": "1.2.0",
      "model_name": "LayoutModel",
      "state": {
       "width": "70px"
      }
     },
     "cc4f17ef3a6141e990b0ae788158b116": {
      "model_module": "@jupyter-widgets/controls",
      "model_module_version": "1.5.0",
      "model_name": "ButtonStyleModel",
      "state": {}
     },
     "d4f78cc70dad4c70882ee87dbac19b8d": {
      "model_module": "@jupyter-widgets/base",
      "model_module_version": "1.2.0",
      "model_name": "LayoutModel",
      "state": {
       "width": "190px"
      }
     },
     "d7d6d04bdd3840f9b5f81a478cb4b85e": {
      "model_module": "@jupyter-widgets/controls",
      "model_module_version": "1.5.0",
      "model_name": "HTMLModel",
      "state": {
       "layout": "IPY_MODEL_7650526359444e97a5991c1fb99935ea",
       "style": "IPY_MODEL_8103d04152f14fc19be5f68a21586bb8",
       "value": "<p style='font-family: IBM Plex Sans, Arial, Helvetica, sans-serif; font-size: 20px; font-weight: medium;'>Circuit Properties</p>"
      }
     },
     "f7b25d2e0f644d52818c248678da633f": {
      "model_module": "@jupyter-widgets/controls",
      "model_module_version": "1.5.0",
      "model_name": "DescriptionStyleModel",
      "state": {
       "description_width": ""
      }
     },
     "fb9bbffa557749d693398d0723b412f3": {
      "model_module": "@jupyter-widgets/controls",
      "model_module_version": "1.5.0",
      "model_name": "HTMLModel",
      "state": {
       "layout": "IPY_MODEL_c48703463f484fd6b3d3e78324509d76",
       "style": "IPY_MODEL_bcc7cb70c7b34440b72c75f48861a880",
       "value": "<h5>Queue</h5>"
      }
     },
     "fd33183ee8d24d95a854c651e4726d04": {
      "model_module": "@jupyter-widgets/base",
      "model_module_version": "1.2.0",
      "model_name": "LayoutModel",
      "state": {
       "margin": "0px 0px 0px 37px",
       "width": "600px"
      }
     }
    },
    "version_major": 2,
    "version_minor": 0
   }
  }
 },
 "nbformat": 4,
 "nbformat_minor": 5
}
