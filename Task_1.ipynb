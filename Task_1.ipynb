{
 "cells": [
  {
   "cell_type": "code",
   "execution_count": 48,
   "id": "71093cb9-2b6e-4d20-9e5f-0356963cd199",
   "metadata": {},
   "outputs": [
    {
     "name": "stderr",
     "output_type": "stream",
     "text": [
      "ibmqfactory.load_account:WARNING:2021-09-28 20:37:04,420: Credentials are already in use. The existing account in the session will be replaced.\n"
     ]
    }
   ],
   "source": [
    "import numpy as np\n",
    "\n",
    "# Importing standard Qiskit libraries\n",
    "from qiskit import QuantumCircuit, transpile, Aer, IBMQ\n",
    "from qiskit.tools.jupyter import *\n",
    "from qiskit.visualization import *\n",
    "from ibm_quantum_widgets import *\n",
    "from qiskit.providers.aer import QasmSimulator\n",
    "\n",
    "from qiskit import *\n",
    "\n",
    "# Loading your IBM Quantum account(s)\n",
    "provider = IBMQ.load_account()"
   ]
  },
  {
   "cell_type": "markdown",
   "id": "8a680752-c47a-43ca-ac50-52350f6e8130",
   "metadata": {
    "tags": []
   },
   "source": [
    "<div align=center class=\"alert alert-block alert-success\">\n",
    "    <h1>IQOSF Mentorship Program:</h1>\n",
    "        <h1>Task 1</h1>\n",
    "    <h2>Abdiel Guerrero V. </h2>\n",
    "</div>"
   ]
  },
  {
   "cell_type": "markdown",
   "id": "e8749521-b69d-4fb7-abcd-c851895d17b8",
   "metadata": {},
   "source": [
    "<div align=center>\n",
    "    <h1>Table of Contents</h1>\n",
    "</div>\n",
    "\n",
    "| |\n",
    "|:-|\n",
    "|    [Problem](#Problem)|\n",
    "|[Example 1](#Example_1)|\n",
    "|[Defining a strategy](#Estr)|\n",
    "|[1. Input Vector](#Inp_Vec)|\n",
    "|[2. Convert into binary representation](#Bin_rep)|\n",
    "|[3. Encoding Data](#Encod_data)|\n",
    "|[3.1 Creating a qRAM](#Create_qRAM)|\n",
    "|[4. Grover's Algorithm](#Grover)|\n",
    "|[4.1 Constructing a Oracle](#Oracle)|\n",
    "|[4.2 Re-Applying the qRAM](#qRAM2)|\n",
    "|[4.3 Diffuser $U_s$](#diff)|"
   ]
  },
  {
   "cell_type": "markdown",
   "id": "16d6a316-2894-4614-948b-cfba47ce37fb",
   "metadata": {},
   "source": [
    "---"
   ]
  },
  {
   "cell_type": "markdown",
   "id": "e5c09d07-902a-4197-9566-0c6590ba8624",
   "metadata": {
    "tags": []
   },
   "source": [
    "<h1><a  style=\"color:#000000;\" id='Problem'>Problem</a></h1>"
   ]
  },
  {
   "cell_type": "markdown",
   "id": "4337573c-14f2-4a2e-93c8-8d6eb75cf51a",
   "metadata": {},
   "source": [
    "Design a quantum circuit that considers as input the following vector of integers numbers:"
   ]
  },
  {
   "cell_type": "markdown",
   "id": "0fa512ef-3a37-4623-bbfc-ddd652a8cf4c",
   "metadata": {},
   "source": [
    "$$\n",
    "\\begin{bmatrix}\n",
    "1 & 5 & 7 & 10\n",
    "\\end{bmatrix}\n",
    "$$"
   ]
  },
  {
   "cell_type": "markdown",
   "id": "22eb221d-34e2-4b78-bfd4-615cb99e3bd1",
   "metadata": {},
   "source": [
    "returns a quantum state which is a superposition of indices of the target solution, <code style=\"background:pink;color:black\">obtaining in the output the indices of the inputs where two adjacent bits will always have different values</code>. In this case the output should be:\n",
    "\n",
    "$$\n",
    "\\frac{1}{\\sqrt{2}} \\big( |01\\rangle + |11 \\rangle  \\big)\n",
    "$$\n",
    "\n",
    ",as the correct indices are 1 and 3.\n",
    "\n",
    "`[0]`: 1 = 0001\n",
    "\n",
    "`[1]`: 5 = 0101\n",
    "\n",
    "`[2]`: 7 = 0111\n",
    "\n",
    "`[3]`: 10 = 1010"
   ]
  },
  {
   "cell_type": "markdown",
   "id": "e8dbc5d3-e22b-4737-b295-f01957fc3ccd",
   "metadata": {},
   "source": [
    "The method to follow for this task is to start from an array of integers as input, pass them to a binary representation and you need to find those integers whose binary representation is such that two adjacent bits are different. Once you have found those integers, you must output a superposition of states where each state is a binary representation of the indices of those integers."
   ]
  },
  {
   "cell_type": "markdown",
   "id": "215b9b4b-44ac-41b4-89c1-ec96a361c85e",
   "metadata": {},
   "source": [
    "---"
   ]
  },
  {
   "cell_type": "markdown",
   "id": "19cef01c-881d-4e32-8777-dfa5c151ea03",
   "metadata": {},
   "source": [
    "<h2><a style=\"color:#000000\", id='Example_1'>Example 1</a></h2>"
   ]
  },
  {
   "cell_type": "markdown",
   "id": "cd40cc5a-a3a6-4bc1-a7bb-481884b4a5ff",
   "metadata": {},
   "source": [
    "1. Consider the vector \n",
    "$\n",
    "\\begin{bmatrix}\n",
    "1 & 5 & 4 & 2\n",
    "\\end{bmatrix}\n",
    "$"
   ]
  },
  {
   "cell_type": "markdown",
   "id": "61019c05-1f3b-4c8e-b60c-513c0f16863f",
   "metadata": {},
   "source": [
    "2. Pass the integer values to binary numbers that is `[001, 101, 100, 010]`"
   ]
  },
  {
   "cell_type": "markdown",
   "id": "46a2a80d-38db-410f-8144-5314d1d4025f",
   "metadata": {},
   "source": [
    "3. Returns the linear combination of the indices in which the values satisfying the criteria are found.\n",
    "\n",
    "$$\n",
    "[0] \\implies 001 \\\\ \n",
    "[1] \\implies 101 \\\\ \n",
    "[2] \\implies 100 \\\\ \n",
    "[3] \\implies 010 \n",
    "$$"
   ]
  },
  {
   "cell_type": "markdown",
   "id": "67bae14d-545a-45c8-bf51-c195c59007ff",
   "metadata": {},
   "source": [
    "4. Indices are converted to binary states:\n",
    "\n",
    "$$\n",
    "001 \\implies |00\\rangle \\\\ \n",
    "101 \\implies |01\\rangle \\\\ \n",
    "100 \\implies |10\\rangle \\\\ \n",
    "010 \\implies |11\\rangle \\\\ \n",
    "$$"
   ]
  },
  {
   "cell_type": "markdown",
   "id": "10db1a53-e131-47f0-9352-6e1b56ef21d5",
   "metadata": {},
   "source": [
    "5. Therefore, the answer would be the superposition of the state $|01 \\rangle$ and $|11\\rangle$, it means\n",
    "\n",
    "$$\n",
    "\\frac{1}{\\sqrt{2}}\\bigg(\\big| 01\\big\\rangle + \\big|11\\big \\rangle \\bigg)\n",
    "$$"
   ]
  },
  {
   "cell_type": "markdown",
   "id": "ab297fbe-0042-4a50-9339-f9568424f664",
   "metadata": {},
   "source": [
    "---"
   ]
  },
  {
   "cell_type": "markdown",
   "id": "9842cbc7-6575-4228-9b47-752f41902280",
   "metadata": {
    "tags": []
   },
   "source": [
    "<h1><a style=\"color:#000000\", id='Estr'>Defining a strategy</a></h1>"
   ]
  },
  {
   "cell_type": "markdown",
   "id": "c0311824-ba58-46c0-871d-aa6fc38f2278",
   "metadata": {},
   "source": [
    "<h2><a style=\"color:#000000\", id='Inp_Vec'>1. Input Vector</a></h2>"
   ]
  },
  {
   "cell_type": "markdown",
   "id": "6a8b16b8-ac2a-457e-b50f-18cb01c5de21",
   "metadata": {},
   "source": [
    "First of all, we need to obtain our input vector. In this case, the vector is `[1, 5, 7, 10]`"
   ]
  },
  {
   "cell_type": "code",
   "execution_count": 531,
   "id": "47d3c3a1-e418-4582-bda0-89a5720a7cda",
   "metadata": {},
   "outputs": [
    {
     "name": "stdout",
     "output_type": "stream",
     "text": [
      "[ 1  5  7 10]\n"
     ]
    }
   ],
   "source": [
    "v = np.array([1,\n",
    "              5,\n",
    "              7,\n",
    "              10])\n",
    "print(v)"
   ]
  },
  {
   "cell_type": "markdown",
   "id": "d775e7a0-fe79-4c86-b6af-8c1e02c48cf3",
   "metadata": {},
   "source": [
    "<h2><a style=\"color:#000000\",  id='Bin_rep'>2. Convert into binary representation</a></h2>"
   ]
  },
  {
   "cell_type": "markdown",
   "id": "e83210cd-165b-4dd6-9f13-d2cc8c7eacfb",
   "metadata": {},
   "source": [
    "Then, we need to convert the previous vector into a binary form."
   ]
  },
  {
   "cell_type": "code",
   "execution_count": 532,
   "id": "b29c6c5a-621a-4b71-8cef-01fe9abf3fd6",
   "metadata": {},
   "outputs": [
    {
     "data": {
      "text/plain": [
       "['1', '101', '111', '1010']"
      ]
     },
     "execution_count": 532,
     "metadata": {},
     "output_type": "execute_result"
    }
   ],
   "source": [
    "vals_ = []\n",
    "for i in v:\n",
    "    vals_.append((bin(i)[2:]))\n",
    "vals_"
   ]
  },
  {
   "cell_type": "markdown",
   "id": "f26565f6-9652-42d1-b387-009f25bf3cec",
   "metadata": {},
   "source": [
    "remember that each element in the list will be related with his index when we will construct our quantum circuit."
   ]
  },
  {
   "cell_type": "code",
   "execution_count": 533,
   "id": "fb576587-a9bd-4ad6-810e-3952b4a1e9d8",
   "metadata": {},
   "outputs": [
    {
     "name": "stdout",
     "output_type": "stream",
     "text": [
      "Value: 1 , Indices: 0\n",
      "Value: 101 , Indices: 1\n",
      "Value: 111 , Indices: 2\n",
      "Value: 1010 , Indices: 3\n"
     ]
    }
   ],
   "source": [
    "for i in vals_:\n",
    "    print(f'Value: {i} , Indices: {vals_.index(i)}')"
   ]
  },
  {
   "cell_type": "markdown",
   "id": "0299bdf5-1f42-48a7-8923-7a9dd0b09b54",
   "metadata": {},
   "source": [
    "---"
   ]
  },
  {
   "cell_type": "markdown",
   "id": "55919728-33f7-4a75-a2de-212c54222f44",
   "metadata": {},
   "source": [
    "<h2><a style=\"color:#C868C6\",  id='Encod_data'>3. Encoding Data</a></h2>"
   ]
  },
  {
   "cell_type": "markdown",
   "id": "e4d1aa15-3cd3-4f1b-83d3-bf42bedb40c7",
   "metadata": {},
   "source": [
    "Each element of our input vector will be associated with an index and a quantum state in the Quantum Circuit in the next way:"
   ]
  },
  {
   "cell_type": "markdown",
   "id": "5affc289-6ef7-466b-9389-f0ff400e602e",
   "metadata": {},
   "source": [
    "$$\n",
    "\\begin{aligned}\n",
    "1  \\implies 1    &\\implies  [0] \\implies |00 \\rangle \\\\ \n",
    "5  \\implies 101  &\\implies  [1] \\implies |01 \\rangle \\\\\n",
    "7  \\implies 111  &\\implies  [2] \\implies |10 \\rangle \\\\\n",
    "10 \\implies 1010 &\\implies [3] \\implies |11 \\rangle \\\\\n",
    "\\end{aligned}\n",
    "$$"
   ]
  },
  {
   "cell_type": "markdown",
   "id": "19689d2d-1321-4bb5-9aab-ace02dc15376",
   "metadata": {},
   "source": [
    "In this case, we will need  2 qubits to encode our data directions, i.e. ($|00\\rangle$, $|01\\rangle$, $\\cdots$); and $2^2$ qubits to express our binary values, the necessary ones to construct our next qRAM ."
   ]
  },
  {
   "cell_type": "markdown",
   "id": "b187f439-7737-47fb-81a9-214e760f4781",
   "metadata": {},
   "source": [
    "The premise that our quantum circuit needs is try to find those integers whose binary representation are such that, two adjacent bits, representing our binary values; be different."
   ]
  },
  {
   "cell_type": "markdown",
   "id": "02d8fb79-9486-4314-99c3-dda94975d71d",
   "metadata": {},
   "source": [
    "$$\n",
    "\\begin{aligned}\n",
    "1    &\\implies  0001 \\implies |00 \\rangle \\\\ \n",
    "101  &\\implies  0101 \\implies |01 \\rangle \\\\\n",
    "111  &\\implies  0111 \\implies |10 \\rangle \\\\\n",
    "1010 &\\implies  1010 \\implies |11 \\rangle \\\\\n",
    "\\end{aligned}\n",
    "$$"
   ]
  },
  {
   "cell_type": "markdown",
   "id": "1a0edf6a-e532-4dbe-8631-5b55a0e068eb",
   "metadata": {},
   "source": [
    "so, we will fill our data with zeros to the left side:"
   ]
  },
  {
   "cell_type": "code",
   "execution_count": 534,
   "id": "8ccb7f0f-ee90-4f40-9dc1-4f490df3bf32",
   "metadata": {},
   "outputs": [
    {
     "data": {
      "text/plain": [
       "['0001', '0101', '0111', '1010']"
      ]
     },
     "execution_count": 534,
     "metadata": {},
     "output_type": "execute_result"
    }
   ],
   "source": [
    "for i in range(4):\n",
    "    vals_[i] = vals_[i].zfill(4)\n",
    "vals_"
   ]
  },
  {
   "cell_type": "markdown",
   "id": "64312238-4f9e-473f-9eb6-770ad05e496b",
   "metadata": {},
   "source": [
    "Remember that we need the superposition of the states which accomplish the condition, so we need to put it into a superposition before to pass to the encoding part."
   ]
  },
  {
   "cell_type": "code",
   "execution_count": 535,
   "id": "7e4bc9cc-2515-44ff-8118-e4181402c53f",
   "metadata": {},
   "outputs": [
    {
     "data": {
      "image/png": "[encoded data removed]",
      "text/plain": [
       "<Figure size 275.93x385.28 with 1 Axes>"
      ]
     },
     "execution_count": 535,
     "metadata": {},
     "output_type": "execute_result"
    }
   ],
   "source": [
    "reg_1  = QuantumRegister(2, name='address')\n",
    "reg_2  = QuantumRegister(4, name='data')\n",
    "qc_1   = QuantumCircuit(reg_1,reg_2)\n",
    "\n",
    "qc_1.h(reg_1)\n",
    "qc_1.barrier(reg_1)\n",
    "\n",
    "qc_1.draw('mpl')"
   ]
  },
  {
   "cell_type": "markdown",
   "id": "2b13afaf-c7ab-4a42-9194-4475a9311462",
   "metadata": {},
   "source": [
    "then, we introduce our encoding part trying to obtain the output\n",
    "\n",
    "$$\n",
    "\\frac{1}{2} \n",
    "\\bigg( \n",
    "|00\\rangle |0001\\rangle +\n",
    "|01\\rangle |0101\\rangle + \n",
    "|10\\rangle |0111\\rangle + \n",
    "|11\\rangle |1010\\rangle  \\bigg)\n",
    "$$"
   ]
  },
  {
   "cell_type": "markdown",
   "id": "db4488f5-df8a-433e-a235-2bd39aae21c4",
   "metadata": {},
   "source": [
    "To be able to make this search trying to find the states whose binary representation accomplish the condition, <code style=\"background:pink;color:black\">we will use a qRAM and Grover's algorithm to perform this search over a subset of our possible states</code>."
   ]
  },
  {
   "cell_type": "markdown",
   "id": "aadbc348-babe-41d9-a925-af9f888137a9",
   "metadata": {},
   "source": [
    "<table>\n",
    "    <tr>\n",
    "        <th>\n",
    "            <img src=\"https://i.imgur.com/PgFtlgq.png\" width=\"384px\"/>\n",
    "        </th>\n",
    "    </tr>\n",
    "    <tr>\n",
    "        <th>\n",
    "            Our expected qRAM \n",
    "        </th>\n",
    "    </tr>\n",
    "</table>"
   ]
  },
  {
   "cell_type": "markdown",
   "id": "c7160a15-09e0-4217-92d5-7754b72f789c",
   "metadata": {},
   "source": [
    "where,"
   ]
  },
  {
   "cell_type": "markdown",
   "id": "b87e9380-ab0f-437a-9836-26f6ea71ab59",
   "metadata": {},
   "source": [
    "<table>\n",
    "    <tr>\n",
    "        <th>\n",
    "            <img src=\"https://i.imgur.com/cpIFA4N.png\" width=\"384px\"/>\n",
    "        </th>\n",
    "    </tr>\n",
    "    <tr>\n",
    "        <th>\n",
    "            Equivalence\n",
    "        </th>\n",
    "    </tr>\n",
    "</table>"
   ]
  },
  {
   "cell_type": "markdown",
   "id": "d751517d-4e5b-4240-ace9-021e8348c2b3",
   "metadata": {
    "tags": []
   },
   "source": [
    "<h2><a style=\"color:#C868C6\",  id='Create_qRAM'>3.1 Creating qRAM</a></h2>"
   ]
  },
  {
   "cell_type": "code",
   "execution_count": 536,
   "id": "4baf2f7c-5305-4d1f-913d-c44cbee4ebe1",
   "metadata": {},
   "outputs": [
    {
     "name": "stdout",
     "output_type": "stream",
     "text": [
      "['0001', '0101', '0111', '1010']\n"
     ]
    }
   ],
   "source": [
    "print(vals_)"
   ]
  },
  {
   "cell_type": "code",
   "execution_count": 537,
   "id": "8c98ab3a-5da4-4a80-b584-8fecc2586a02",
   "metadata": {},
   "outputs": [
    {
     "name": "stdout",
     "output_type": "stream",
     "text": [
      "00\n",
      "j: 0, val: 0, counter: 3\n",
      "j: 1, val: 0, counter: 2\n",
      "j: 2, val: 0, counter: 1\n",
      "j: 3, val: 1, counter: 0\n",
      "01\n",
      "j: 0, val: 0, counter: 3\n",
      "j: 1, val: 1, counter: 2\n",
      "j: 2, val: 0, counter: 1\n",
      "j: 3, val: 1, counter: 0\n",
      "10\n",
      "j: 0, val: 0, counter: 3\n",
      "j: 1, val: 1, counter: 2\n",
      "j: 2, val: 1, counter: 1\n",
      "j: 3, val: 1, counter: 0\n",
      "11\n",
      "j: 0, val: 1, counter: 3\n",
      "j: 1, val: 0, counter: 2\n",
      "j: 2, val: 1, counter: 1\n",
      "j: 3, val: 0, counter: 0\n"
     ]
    },
    {
     "data": {
      "image/png": "[encoded data removed]",
      "text/plain": [
       "<Figure size 1299.33x385.28 with 1 Axes>"
      ]
     },
     "execution_count": 537,
     "metadata": {},
     "output_type": "execute_result"
    }
   ],
   "source": [
    "address_reg = QuantumRegister(np.sqrt(len(vals_)), name='address')\n",
    "binary_reg  = QuantumRegister(len(vals_), name='data')\n",
    "\n",
    "qc_2 = QuantumCircuit(address_reg,binary_reg)\n",
    "\n",
    "n = len(vals_)\n",
    "\n",
    "for indx in range(n):\n",
    "    \n",
    "    # Create adrress indices\n",
    "    bin_indx = bin(4 + indx)[-2:]\n",
    "    print(bin_indx)\n",
    "    \n",
    "    count = len(vals_[indx])-1\n",
    "    for j, val in enumerate(vals_[indx]):\n",
    "        print(f'j: {j}, val: {val}, counter: {count}')\n",
    "        \n",
    "        if val == '1':\n",
    "            if bin_indx[0] == '0':\n",
    "                qc_2.x(0)\n",
    "            if bin_indx[1] == '0':\n",
    "                qc_2.x(1)\n",
    "            qc_2.ccx(0,1, binary_reg[count])\n",
    "            if bin_indx[0] == '0':\n",
    "                qc_2.x(0)\n",
    "            if bin_indx[1] == '0':\n",
    "                qc_2.x(1)\n",
    "        count = count -1        \n",
    "qRAM_gate = qc_2.to_gate()\n",
    "qRAM_gate.name = 'qRAM'\n",
    "qc_2.draw('mpl')"
   ]
  },
  {
   "cell_type": "code",
   "execution_count": 538,
   "id": "35f4d82a-14b3-403d-8847-239be75719ef",
   "metadata": {},
   "outputs": [
    {
     "data": {
      "image/png": "[encoded data removed]",
      "text/plain": [
       "<Figure size 396.33x385.28 with 1 Axes>"
      ]
     },
     "execution_count": 538,
     "metadata": {},
     "output_type": "execute_result"
    }
   ],
   "source": [
    "address_reg_gateR = QuantumRegister(np.sqrt(len(vals_)), name='address')\n",
    "binary_reg_gateR  = QuantumRegister(len(vals_), name='data')\n",
    "\n",
    "qc_RAM_gate = QuantumCircuit(address_reg_gateR ,binary_reg_gateR)\n",
    "n_ = len(vals_)\n",
    "\n",
    "\n",
    "qc_RAM_gate.h(address_reg_gateR)\n",
    "qc_RAM_gate.barrier()\n",
    "\n",
    "\n",
    "qc_RAM_gate.append(qRAM_gate, range(6) )\n",
    "qc_RAM_gate.draw('mpl')"
   ]
  },
  {
   "cell_type": "markdown",
   "id": "0df4b37b-1d77-4c72-9731-12be096f501e",
   "metadata": {},
   "source": [
    "<h2><a style=\"color:#C868C6\",  id='Grover'>4. Grover's Algorithm</a></h2>"
   ]
  },
  {
   "cell_type": "markdown",
   "id": "71a58c68-2773-4514-8a47-eed8267c74f1",
   "metadata": {},
   "source": [
    "Now, its time to select a subset of our all possible values in the superposition. It means, we need to select only the addresses that are correlated such that,their binary values relative to another adrress binary values are all different."
   ]
  },
  {
   "cell_type": "markdown",
   "id": "079f065c-fe3f-4a8a-98c0-7d3d3384ce52",
   "metadata": {},
   "source": [
    "$$\n",
    "\\begin{aligned}\n",
    "1     \\implies  |00 \\rangle   &\\implies  &0&0&0&1  \\\\ \n",
    "101   \\implies  |01 \\rangle   &\\implies  &0&1&0&1  \\\\\n",
    "111   \\implies  |10 \\rangle   &\\implies  &0&1&1&1  \\\\\n",
    "1010  \\implies  |11 \\rangle   &\\implies  &1&0&1&0  \\\\\n",
    "\\end{aligned}\n",
    "$$"
   ]
  },
  {
   "cell_type": "markdown",
   "id": "214c6a09-2886-48fa-be13-cbda087235b1",
   "metadata": {},
   "source": [
    "$$\n",
    "\\begin{aligned}\n",
    "101   \\implies  |01 \\rangle   \\implies  0101  \\\\\n",
    "1010  \\implies  |11 \\rangle   \\implies  1010  \\\\\n",
    "\\end{aligned}\n",
    "$$"
   ]
  },
  {
   "cell_type": "markdown",
   "id": "840ee09e-f66b-4348-9cb5-172c42760173",
   "metadata": {},
   "source": [
    "<h2><a style=\"color:#C868C6\",  id='Oracle'>4.1 Constructing an Oracle</a></h2>"
   ]
  },
  {
   "cell_type": "markdown",
   "id": "cba840ad-3c0f-4723-a18e-f74faa4f483b",
   "metadata": {},
   "source": [
    "In this step we need to apply an oracle over our `data register`, such that we change the sign of the values that satisfy the condition and then, mark the corresponding value in the `address register`."
   ]
  },
  {
   "cell_type": "markdown",
   "id": "67be685a-1b88-43f6-a910-fc240d0b2bd4",
   "metadata": {},
   "source": [
    "$$\n",
    "U_\\omega|x\\rangle = \\bigg\\{\n",
    "\\begin{aligned}\n",
    "\\phantom{-}|x\\rangle \\quad \\text{if} \\; x \\neq \\omega \\\\\n",
    "-|x\\rangle \\quad \\text{if} \\; x = \\omega \\\\\n",
    "\\end{aligned}\n",
    "$$"
   ]
  },
  {
   "cell_type": "markdown",
   "id": "20d81929-8170-49bb-9530-db1fe47fd806",
   "metadata": {},
   "source": [
    "If each the consecutive qubit must have a different values, then y we apply a Multi-controll $X$ the result will be `0`. So, if we include an ancillar or extra qubit it will keep their value in zero. Thus, whit a CCX in each consecutive bit the ancilla will be 0, then we apply a $X$ gate and use it to change the sign of our marked states with a $CZ$ from the ancilla to the most-significant qubit.\n",
    "\n",
    "\n",
    "$$\n",
    "b_3 \\not = b_2\\\\\n",
    "b_2 \\not = b_1 \\\\\n",
    "b_1 \\not = b_0\n",
    "$$"
   ]
  },
  {
   "cell_type": "code",
   "execution_count": 539,
   "id": "47f20174-fad4-465f-aafe-38a67a9b24f6",
   "metadata": {},
   "outputs": [],
   "source": [
    "rang_ = int(np.sqrt(n_))"
   ]
  },
  {
   "cell_type": "code",
   "execution_count": 540,
   "id": "55c39731-2f48-498a-9079-0163d6c34934",
   "metadata": {},
   "outputs": [
    {
     "data": {
      "image/png": "[encoded data removed]",
      "text/plain": [
       "<Figure size 803.454x385.28 with 1 Axes>"
      ]
     },
     "execution_count": 540,
     "metadata": {},
     "output_type": "execute_result"
    }
   ],
   "source": [
    "# Put it into a gate\n",
    "binary_reg_orac  = QuantumRegister(len(vals_), name='data')\n",
    "extra_reg  = QuantumRegister(2, name='ancilla')\n",
    "qc_orac = QuantumCircuit(binary_reg_orac,extra_reg)\n",
    "n = len(vals_)\n",
    "\n",
    "qc_orac.x(extra_reg[0])\n",
    "qc_orac.x(extra_reg[1])\n",
    "\n",
    "qc_orac.cx(0,extra_reg[0])\n",
    "qc_orac.cx(1,extra_reg[0])\n",
    "qc_orac.cx(2,extra_reg[0])\n",
    "qc_orac.cx(3,extra_reg[0])\n",
    "\n",
    "for i in range(n-1):\n",
    "    qc_orac.mct([i,i+1],extra_reg[1])\n",
    "    \n",
    "qc_orac.h(orac_reg[n-1])\n",
    "qc_orac.mct([extra_reg[0], extra_reg[1]],binary_reg_orac[n-1])\n",
    "qc_orac.h(binary_reg_orac[n-1])\n",
    "\n",
    "\n",
    "\n",
    "oracle_gate = qc_orac.to_gate()\n",
    "oracle_gate.name = 'oracle'\n",
    "qc_orac.draw('mpl')"
   ]
  },
  {
   "cell_type": "code",
   "execution_count": 541,
   "id": "8f08b3ba-da65-4410-ba6f-5423980fa0bc",
   "metadata": {},
   "outputs": [
    {
     "name": "stdout",
     "output_type": "stream",
     "text": [
      "Traceback \u001b[1;36m(most recent call last)\u001b[0m:\n",
      "  File \u001b[0;32m\"/tmp/ipykernel_2346/1653224463.py\"\u001b[0m, line \u001b[0;32m14\u001b[0m, in \u001b[0;35m<module>\u001b[0m\n",
      "    qc_.append( oracle_gate, range(2,7) )\n",
      "  File \u001b[0;32m\"/opt/conda/lib/python3.8/site-packages/qiskit/circuit/quantumcircuit.py\"\u001b[0m, line \u001b[0;32m1085\u001b[0m, in \u001b[0;35mappend\u001b[0m\n",
      "    for (qarg, carg) in instruction.broadcast_arguments(expanded_qargs, expanded_cargs):\n",
      "\u001b[1;36m  File \u001b[1;32m\"/opt/conda/lib/python3.8/site-packages/qiskit/circuit/gate.py\"\u001b[1;36m, line \u001b[1;32m200\u001b[1;36m, in \u001b[1;35mbroadcast_arguments\u001b[1;36m\u001b[0m\n",
      "\u001b[1;33m    raise CircuitError(\u001b[0m\n",
      "\u001b[1;31mCircuitError\u001b[0m\u001b[1;31m:\u001b[0m 'The amount of qubit(5)/clbit(0) arguments does not match the gate expectation (6).'\n",
      "\n",
      "Use %tb to get the full traceback.\n"
     ]
    },
    {
     "data": {
      "text/html": [
       "\n",
       "<style>\n",
       ".button {\n",
       "  border: none;\n",
       "  color: white;\n",
       "  padding: 4px 8px;\n",
       "  text-align: center;\n",
       "  text-decoration: none;\n",
       "  display: inline-block;\n",
       "  font-size: 12px;\n",
       "  margin: 4px 2px;\n",
       "  transition-duration: 0.2s;\n",
       "  cursor: pointer;\n",
       "}\n",
       ".iqx-button {\n",
       "  background-color: #0f62fe; \n",
       "  color: white; \n",
       "}\n",
       ".iqx-button:hover {\n",
       "  background-color: #0043ce;\n",
       "  color: white;\n",
       "}\n",
       "</style>\n",
       "<a href=\"https://stackoverflow.com/search?q=CircuitError: The amount of qubit(5)/clbit(0) arguments does not match the gate expectation (6).\" target='_blank'><button class='button iqx-button'>Search for solution online</button></a>\n"
      ],
      "text/plain": [
       "<IPython.core.display.HTML object>"
      ]
     },
     "metadata": {},
     "output_type": "display_data"
    }
   ],
   "source": [
    "address_reg_ = QuantumRegister(np.sqrt(len(vals_)), name='address')\n",
    "binary_reg_  = QuantumRegister(len(vals_), name='data')\n",
    "ancilla_reg  = QuantumRegister(1, name='ancilla')\n",
    "meas_reg_   =  ClassicalRegister(size=np.sqrt(len(vals_)), name=None, bits=None)\n",
    "\n",
    "qc_ = QuantumCircuit(address_reg_ ,binary_reg_,ancilla_reg, meas_reg_)\n",
    "n_ = len(vals_)\n",
    "\n",
    "\n",
    "qc_.h(address_reg)\n",
    "qc_.barrier()\n",
    "\n",
    "qc_.append( qRAM_gate,  range(6) )\n",
    "qc_.append( oracle_gate, range(2,7) )\n",
    "\n",
    "#qc_.measure(address_reg_, meas_reg_)\n",
    "qc_.draw('mpl')"
   ]
  },
  {
   "cell_type": "markdown",
   "id": "96e9fe6c-9a2c-409c-a114-9f2d7812b245",
   "metadata": {},
   "source": [
    "<h2><a style=\"color:#C868C6\",  id='qRAM2'>4.2 Re-Applying the qRAM</a></h2>"
   ]
  },
  {
   "cell_type": "markdown",
   "id": "e3a71039-36a1-4bd0-9c1b-b9daf2c4f30b",
   "metadata": {},
   "source": [
    "Next, we need to apply the `qRAM` again to eliminate any possible entanglement in our next Grover's Gate and move from values to addresses."
   ]
  },
  {
   "cell_type": "code",
   "execution_count": null,
   "id": "6cd1a6d1-104b-4efd-b8d8-67ff7930b338",
   "metadata": {},
   "outputs": [],
   "source": [
    "address_reg_ = QuantumRegister(np.sqrt(len(vals_)), name='address')\n",
    "binary_reg_  = QuantumRegister(len(vals_), name='data')\n",
    "ancilla_reg  = QuantumRegister(1, name='ancilla')\n",
    "meas_reg_   =  ClassicalRegister(size=np.sqrt(len(vals_)), name=None, bits=None)\n",
    "\n",
    "qc_ = QuantumCircuit(address_reg_ ,binary_reg_,ancilla_reg, meas_reg_)\n",
    "n_ = len(vals_)\n",
    "\n",
    "### Superposition ###\n",
    "qc_.h(address_reg)\n",
    "qc_.barrier()\n",
    "\n",
    "### qRAM ###\n",
    "qc_.append( qRAM_gate,  range(6) )\n",
    "### Oracle ###\n",
    "qc_.append( oracle_gate, range(2,7) )\n",
    "### qRAM ###\n",
    "qc_.append( qRAM_gate,  range(6) )\n",
    "\n",
    "\n",
    "#qc_.measure(address_reg_, meas_reg_)\n",
    "qc_.draw('mpl')"
   ]
  },
  {
   "cell_type": "markdown",
   "id": "c8cc2dd0-faa7-4767-97c5-def956b9c94b",
   "metadata": {},
   "source": [
    "<h2><a style=\"color:#C868C6\",  id='diff'>4.3 Diffuser $U_s$</a></h2>"
   ]
  },
  {
   "cell_type": "code",
   "execution_count": null,
   "id": "17c80f9d-18f0-4985-b061-a6b0254b18a1",
   "metadata": {},
   "outputs": [],
   "source": [
    "rang_ = int(np.sqrt(n_))\n",
    "reg  = QuantumRegister(rang_, name='reg')\n",
    "diff = QuantumCircuit(reg)\n",
    "\n",
    "diff.h(reg)\n",
    "diff.z(reg)\n",
    "for i in range(rang_ - 1 ):\n",
    "    diff.cz(reg[i-1], reg[i])\n",
    "diff.h(reg)\n",
    "\n",
    "\n",
    "          \n",
    "diff_gate = diff.to_gate()\n",
    "diff_gate.name = 'diff'\n",
    "diff.draw('mpl')"
   ]
  },
  {
   "cell_type": "code",
   "execution_count": 542,
   "id": "4795b6a7-5efc-4d94-9797-fbcf5a032609",
   "metadata": {},
   "outputs": [
    {
     "name": "stdout",
     "output_type": "stream",
     "text": [
      "Traceback \u001b[1;36m(most recent call last)\u001b[0m:\n",
      "  File \u001b[0;32m\"/tmp/ipykernel_2346/2288790322.py\"\u001b[0m, line \u001b[0;32m20\u001b[0m, in \u001b[0;35m<module>\u001b[0m\n",
      "    qc_.append( oracle_gate, range(2,7) )\n",
      "  File \u001b[0;32m\"/opt/conda/lib/python3.8/site-packages/qiskit/circuit/quantumcircuit.py\"\u001b[0m, line \u001b[0;32m1085\u001b[0m, in \u001b[0;35mappend\u001b[0m\n",
      "    for (qarg, carg) in instruction.broadcast_arguments(expanded_qargs, expanded_cargs):\n",
      "\u001b[1;36m  File \u001b[1;32m\"/opt/conda/lib/python3.8/site-packages/qiskit/circuit/gate.py\"\u001b[1;36m, line \u001b[1;32m200\u001b[1;36m, in \u001b[1;35mbroadcast_arguments\u001b[1;36m\u001b[0m\n",
      "\u001b[1;33m    raise CircuitError(\u001b[0m\n",
      "\u001b[1;31mCircuitError\u001b[0m\u001b[1;31m:\u001b[0m 'The amount of qubit(5)/clbit(0) arguments does not match the gate expectation (6).'\n",
      "\n",
      "Use %tb to get the full traceback.\n"
     ]
    },
    {
     "data": {
      "text/html": [
       "\n",
       "<style>\n",
       ".button {\n",
       "  border: none;\n",
       "  color: white;\n",
       "  padding: 4px 8px;\n",
       "  text-align: center;\n",
       "  text-decoration: none;\n",
       "  display: inline-block;\n",
       "  font-size: 12px;\n",
       "  margin: 4px 2px;\n",
       "  transition-duration: 0.2s;\n",
       "  cursor: pointer;\n",
       "}\n",
       ".iqx-button {\n",
       "  background-color: #0f62fe; \n",
       "  color: white; \n",
       "}\n",
       ".iqx-button:hover {\n",
       "  background-color: #0043ce;\n",
       "  color: white;\n",
       "}\n",
       "</style>\n",
       "<a href=\"https://stackoverflow.com/search?q=CircuitError: The amount of qubit(5)/clbit(0) arguments does not match the gate expectation (6).\" target='_blank'><button class='button iqx-button'>Search for solution online</button></a>\n"
      ],
      "text/plain": [
       "<IPython.core.display.HTML object>"
      ]
     },
     "metadata": {},
     "output_type": "display_data"
    }
   ],
   "source": [
    "n_    = len(vals_)\n",
    "rang_ = int(np.sqrt(n_))\n",
    "\n",
    "address_reg_ = QuantumRegister(np.sqrt(len(vals_)), name='address')\n",
    "binary_reg_  = QuantumRegister(len(vals_), name='data')\n",
    "ancilla_reg  = QuantumRegister(1, name='ancilla')\n",
    "meas_reg_   =  ClassicalRegister(size=np.sqrt(len(vals_)), name='classical', bits=None)\n",
    "\n",
    "\n",
    "qc_ = QuantumCircuit(address_reg_ ,binary_reg_,ancilla_reg, meas_reg_)\n",
    "\n",
    "\n",
    "### Superposition ###\n",
    "qc_.h(address_reg)\n",
    "\n",
    "\n",
    "### qRAM ###\n",
    "qc_.append( qRAM_gate,  range(6) )\n",
    "### Oracle ###\n",
    "qc_.append( oracle_gate, range(2,7) )\n",
    "### qRAM ###\n",
    "qc_.append( qRAM_gate,  range(6) )\n",
    "\n",
    "qc_.append(diff_gate, range(2))\n",
    "\n",
    "qc_.measure(address_reg_, meas_reg_)\n",
    "#qc_ = qc_.reverse_bits()\n",
    "qc_.draw('mpl')"
   ]
  },
  {
   "cell_type": "markdown",
   "id": "f6d239a7-7247-4092-a985-2580808df2f5",
   "metadata": {},
   "source": [
    "---"
   ]
  },
  {
   "cell_type": "markdown",
   "id": "3cb1a313-4055-40dc-9b97-4dee403cce26",
   "metadata": {},
   "source": [
    "# Putting all together"
   ]
  },
  {
   "cell_type": "code",
   "execution_count": 543,
   "id": "a0ceaab9-ce38-4f58-9adf-4b840075aa71",
   "metadata": {},
   "outputs": [
    {
     "data": {
      "text/plain": [
       "['0001', '0101', '0111', '1010']"
      ]
     },
     "execution_count": 543,
     "metadata": {},
     "output_type": "execute_result"
    }
   ],
   "source": [
    "v = np.array([1,\n",
    "              5,\n",
    "              7,\n",
    "              10])\n",
    "\n",
    "vals_ = []\n",
    "for i in v:\n",
    "    vals_.append((bin(i)[2:]))\n",
    "\n",
    "\n",
    "for i in range(4):\n",
    "    vals_[i] = vals_[i].zfill(4)\n",
    "vals_"
   ]
  },
  {
   "cell_type": "markdown",
   "id": "6f76750b-e02b-414f-a255-5d3cf20976f8",
   "metadata": {},
   "source": [
    "## qRAM"
   ]
  },
  {
   "cell_type": "code",
   "execution_count": 544,
   "id": "305aff07-5f6e-43f8-b174-36dd1ff2ab03",
   "metadata": {},
   "outputs": [
    {
     "data": {
      "image/png": "[encoded data removed]",
      "text/plain": [
       "<Figure size 1299.33x385.28 with 1 Axes>"
      ]
     },
     "execution_count": 544,
     "metadata": {},
     "output_type": "execute_result"
    }
   ],
   "source": [
    "address_reg = QuantumRegister(np.sqrt(len(vals_)), name='address')\n",
    "binary_reg  = QuantumRegister(len(vals_), name='data')\n",
    "\n",
    "qRAM = QuantumCircuit(address_reg,binary_reg)\n",
    "\n",
    "n = len(vals_)\n",
    "\n",
    "for indx in range(n):\n",
    "    \n",
    "    # Create adrress indices\n",
    "    bin_indx = bin(4 + indx)[-2:]    \n",
    "    count = len(vals_[indx])-1\n",
    "    for j, val in enumerate(vals_[indx]):        \n",
    "        if val == '1':\n",
    "            if bin_indx[0] == '0':\n",
    "                qRAM.x(0)\n",
    "            if bin_indx[1] == '0':\n",
    "                qRAM.x(1)\n",
    "            qRAM.ccx(0,1, binary_reg[count])\n",
    "            if bin_indx[0] == '0':\n",
    "                qRAM.x(0)\n",
    "            if bin_indx[1] == '0':\n",
    "                qRAM.x(1)\n",
    "        count = count -1        \n",
    "qRAM_gate = qRAM.to_gate()\n",
    "qRAM_gate.name = 'qRAM'\n",
    "qRAM.draw('mpl')"
   ]
  },
  {
   "cell_type": "markdown",
   "id": "c441153d-04f5-4a39-abae-47adcd6a82f1",
   "metadata": {},
   "source": [
    "## Oracle"
   ]
  },
  {
   "cell_type": "code",
   "execution_count": 545,
   "id": "ed183b13-2abf-4a23-93a3-52a8f01f36cb",
   "metadata": {},
   "outputs": [
    {
     "data": {
      "image/png": "[encoded data removed]",
      "text/plain": [
       "<Figure size 814.268x385.28 with 1 Axes>"
      ]
     },
     "execution_count": 545,
     "metadata": {},
     "output_type": "execute_result"
    }
   ],
   "source": [
    "# Put it into a gate\n",
    "orac_reg    = QuantumRegister(len(vals_), name='data')\n",
    "extra_qubit  = QuantumRegister(2, name='ancillas')\n",
    "oracle = QuantumCircuit(orac_reg,extra_qubit)\n",
    "n = len(vals_)\n",
    "\n",
    "oracle.x(extra_qubit[0])\n",
    "oracle.x(extra_qubit[1])\n",
    "\n",
    "oracle.cx(0,extra_qubit[0])\n",
    "oracle.cx(1,extra_qubit[0])\n",
    "oracle.cx(2,extra_qubit[0])\n",
    "oracle.cx(3,extra_qubit[0])\n",
    "\n",
    "for i in range(n-1):\n",
    "    oracle.mct([i,i+1],extra_qubit[1])\n",
    "    \n",
    "oracle.h(orac_reg[n-1])\n",
    "oracle.mct([extra_qubit[0], extra_qubit[1]],orac_reg[n-1])\n",
    "oracle.h(orac_reg[n-1])\n",
    "    \n",
    "\n",
    "oracle_gate = oracle.to_gate()\n",
    "oracle_gate.name = 'oracle'\n",
    "oracle.draw('mpl')"
   ]
  },
  {
   "cell_type": "markdown",
   "id": "7929f658-9f7d-4b1a-ac67-ce5cd2fce81a",
   "metadata": {},
   "source": [
    "## Diffusor"
   ]
  },
  {
   "cell_type": "code",
   "execution_count": 546,
   "id": "610676c1-d0b4-45a1-8a03-b9b1590fc219",
   "metadata": {},
   "outputs": [
    {
     "data": {
      "image/png": "[encoded data removed]",
      "text/plain": [
       "<Figure size 408.941x144.48 with 1 Axes>"
      ]
     },
     "execution_count": 546,
     "metadata": {},
     "output_type": "execute_result"
    }
   ],
   "source": [
    "rang_ = int(np.sqrt(n_))\n",
    "\n",
    "diff_reg  = QuantumRegister(rang_, name='reg')\n",
    "diffusor = QuantumCircuit(diff_reg)\n",
    "\n",
    "diffusor.h(reg)\n",
    "diffusor.x(reg)\n",
    "diffusor.cz(0,1)\n",
    "diffusor.x(reg)\n",
    "diffusor.h(reg)\n",
    "\n",
    "          \n",
    "diff_gate = diffusor.to_gate()\n",
    "diff_gate.name = 'diff'\n",
    "diffusor.draw('mpl')"
   ]
  },
  {
   "cell_type": "markdown",
   "id": "0d25418c-5a3d-4995-817c-b87bbc0a9643",
   "metadata": {},
   "source": [
    "## All circuit"
   ]
  },
  {
   "cell_type": "code",
   "execution_count": 547,
   "id": "2897dbde-73e8-47ce-8000-8a2e69475921",
   "metadata": {},
   "outputs": [
    {
     "data": {
      "image/png": "[encoded data removed]",
      "text/plain": [
       "<Figure size 757.53x565.88 with 1 Axes>"
      ]
     },
     "execution_count": 547,
     "metadata": {},
     "output_type": "execute_result"
    }
   ],
   "source": [
    "solution_address = QuantumRegister(np.sqrt(len(vals_)), name='address')\n",
    "solution_datas  = QuantumRegister(len(vals_), name='data')\n",
    "solution_ancilla  = QuantumRegister(2, name='ancilla')\n",
    "solution_classical   =  ClassicalRegister(size=np.sqrt(len(vals_)), name='classical', bits=None)\n",
    "\n",
    "\n",
    "solution = QuantumCircuit(solution_address ,solution_datas,solution_ancilla, solution_classical)\n",
    "\n",
    "\n",
    "### Superposition ###\n",
    "solution.h(address_reg)\n",
    "\n",
    "\n",
    "### qRAM ###\n",
    "solution.append( qRAM_gate,  range(6) )\n",
    "### Oracle ###\n",
    "solution.append( oracle_gate, range(2,8) )\n",
    "### qRAM ###\n",
    "solution.append( qRAM_gate,  range(6) )\n",
    "\n",
    "solution.append(diff_gate, range(2))\n",
    "\n",
    "solution.measure(address_reg_, meas_reg_)\n",
    "solution = solution.reverse_bits()\n",
    "solution.draw('mpl')"
   ]
  },
  {
   "cell_type": "code",
   "execution_count": 548,
   "id": "79b0e830-2804-450e-a234-0291bf1fc2ea",
   "metadata": {},
   "outputs": [
    {
     "data": {
      "image/png": "[encoded data removed]",
      "text/plain": [
       "<Figure size 504x360 with 1 Axes>"
      ]
     },
     "execution_count": 548,
     "metadata": {},
     "output_type": "execute_result"
    }
   ],
   "source": [
    "backend = Aer.get_backend('qasm_simulator')\n",
    "job = execute(solution, backend, shots = 10000)\n",
    "plot_histogram(job.result().get_counts())"
   ]
  },
  {
   "cell_type": "markdown",
   "id": "11db75dd-45bf-4cba-bb05-f1510e255b84",
   "metadata": {},
   "source": [
    "---"
   ]
  }
 ],
 "metadata": {
  "kernelspec": {
   "display_name": "Qiskit v0.30.0 (ipykernel)",
   "language": "python",
   "name": "python3"
  },
  "language_info": {
   "codemirror_mode": {
    "name": "ipython",
    "version": 3
   },
   "file_extension": ".py",
   "mimetype": "text/x-python",
   "name": "python",
   "nbconvert_exporter": "python",
   "pygments_lexer": "ipython3",
   "version": "3.8.10"
  },
  "widgets": {
   "application/vnd.jupyter.widget-state+json": {
    "state": {
     "00f65e5d2b6a4f2ebdd3ea7bf1816396": {
      "model_module": "@jupyter-widgets/controls",
      "model_module_version": "1.5.0",
      "model_name": "HTMLModel",
      "state": {
       "layout": "IPY_MODEL_57fa23e5fbad476a9d3ac8394b004546",
       "style": "IPY_MODEL_6f09adf08a4840cc81a55e34766842b4",
       "value": "<h5>Backend</h5>"
      }
     },
     "043aa5de31da429db729d306e84678a4": {
      "model_module": "@jupyter-widgets/base",
      "model_module_version": "1.2.0",
      "model_name": "LayoutModel",
      "state": {}
     },
     "0651725c5c7f452db9b823ffc111e2ad": {
      "model_module": "@jupyter-widgets/controls",
      "model_module_version": "1.5.0",
      "model_name": "HTMLModel",
      "state": {
       "layout": "IPY_MODEL_6b378191741e47e0a3225ca6093871e1",
       "style": "IPY_MODEL_83eb6d87d74f4b5a8c7ee9938c48b424",
       "value": "<h5>Job ID</h5>"
      }
     },
     "18031b72da404c8195cec5b247465572": {
      "model_module": "@jupyter-widgets/controls",
      "model_module_version": "1.5.0",
      "model_name": "HTMLModel",
      "state": {
       "layout": "IPY_MODEL_75ccaaafc2d84f69b6dc21ab19196234",
       "style": "IPY_MODEL_f2bb74504bda44f1ad1a0e86c50d054a",
       "value": "<h5>Status</h5>"
      }
     },
     "1fcae7b3f66e499cb74e6e47c820e1ef": {
      "model_module": "@jupyter-widgets/controls",
      "model_module_version": "1.5.0",
      "model_name": "ButtonStyleModel",
      "state": {}
     },
     "238268d8f95c4e229cb5ee72a3dc70dd": {
      "model_module": "@jupyter-widgets/base",
      "model_module_version": "1.2.0",
      "model_name": "LayoutModel",
      "state": {}
     },
     "2546cb7e9c414dce9010acc61909c4f2": {
      "model_module": "@jupyter-widgets/base",
      "model_module_version": "1.2.0",
      "model_name": "LayoutModel",
      "state": {
       "width": "95px"
      }
     },
     "26d35870fdcb4ea6a69e0674db777280": {
      "model_module": "@jupyter-widgets/controls",
      "model_module_version": "1.5.0",
      "model_name": "ButtonStyleModel",
      "state": {}
     },
     "33168ba85342427584759d35d919e019": {
      "model_module": "@jupyter-widgets/controls",
      "model_module_version": "1.5.0",
      "model_name": "DescriptionStyleModel",
      "state": {
       "description_width": ""
      }
     },
     "35595a2c5b6b4adbb72737c24fb406a1": {
      "model_module": "@jupyter-widgets/controls",
      "model_module_version": "1.5.0",
      "model_name": "HTMLModel",
      "state": {
       "layout": "IPY_MODEL_d4877818fe804924b05dcc21d3c01419",
       "style": "IPY_MODEL_48722dd551da4dfcb55a6a48634b92ca",
       "value": "<h5>Queue</h5>"
      }
     },
     "3740014063694ad7983e910a8b702b31": {
      "model_module": "@jupyter-widgets/controls",
      "model_module_version": "1.5.0",
      "model_name": "HTMLModel",
      "state": {
       "layout": "IPY_MODEL_238268d8f95c4e229cb5ee72a3dc70dd",
       "style": "IPY_MODEL_c1417f5390bb47dcad78b2e5bd1e72ae",
       "value": "<h5>Message</h5>"
      }
     },
     "3bee1897f3f6452aa417017597281c77": {
      "model_module": "@jupyter-widgets/base",
      "model_module_version": "1.2.0",
      "model_name": "LayoutModel",
      "state": {
       "grid_area": "right",
       "padding": "0px 0px 0px 0px",
       "width": "70px"
      }
     },
     "3d1b63d108334acba21d6f0c8f3a57b9": {
      "model_module": "@jupyter-widgets/controls",
      "model_module_version": "1.5.0",
      "model_name": "HTMLModel",
      "state": {
       "layout": "IPY_MODEL_80757ab10da54c22a3d214350f254edc",
       "style": "IPY_MODEL_4afdbaa530bb429189c115a748ab86e4",
       "value": "<p style='font-family: IBM Plex Sans, Arial, Helvetica, sans-serif; font-size: 20px; font-weight: medium;'>Circuit Properties</p>"
      }
     },
     "4305042ad8624230a7397af90b1b3233": {
      "model_module": "@jupyter-widgets/controls",
      "model_module_version": "1.5.0",
      "model_name": "HTMLModel",
      "state": {
       "layout": "IPY_MODEL_9f250e1ea67649e4b4c7b4f888aecf2b",
       "style": "IPY_MODEL_33168ba85342427584759d35d919e019",
       "value": "<p style='font-family: IBM Plex Sans, Arial, Helvetica, sans-serif; font-size: 20px; font-weight: medium;'>Circuit Properties</p>"
      }
     },
     "43ad23e71d7047c9a81ef49101be2d0b": {
      "model_module": "@jupyter-widgets/controls",
      "model_module_version": "1.5.0",
      "model_name": "HTMLModel",
      "state": {
       "layout": "IPY_MODEL_9f6b006aab1940ffa28b24cbe67c667a",
       "style": "IPY_MODEL_eb1ae8e47730418f8bfdc08b57d14d79",
       "value": "<h5>Job ID</h5>"
      }
     },
     "48722dd551da4dfcb55a6a48634b92ca": {
      "model_module": "@jupyter-widgets/controls",
      "model_module_version": "1.5.0",
      "model_name": "DescriptionStyleModel",
      "state": {
       "description_width": ""
      }
     },
     "48e06f4dca0f47229f10924d5cea3ad3": {
      "model_module": "@jupyter-widgets/controls",
      "model_module_version": "1.5.0",
      "model_name": "HTMLModel",
      "state": {
       "layout": "IPY_MODEL_769e4764a96942bda538cf152aaab809",
       "style": "IPY_MODEL_59513b1aa3f94c21ad4b94a31ab8b0a3",
       "value": "<h5>Queue</h5>"
      }
     },
     "4afdbaa530bb429189c115a748ab86e4": {
      "model_module": "@jupyter-widgets/controls",
      "model_module_version": "1.5.0",
      "model_name": "DescriptionStyleModel",
      "state": {
       "description_width": ""
      }
     },
     "50bf77ca48ac4a1aa7897ba01a5de52b": {
      "model_module": "@jupyter-widgets/controls",
      "model_module_version": "1.5.0",
      "model_name": "DescriptionStyleModel",
      "state": {
       "description_width": ""
      }
     },
     "57fa23e5fbad476a9d3ac8394b004546": {
      "model_module": "@jupyter-widgets/base",
      "model_module_version": "1.2.0",
      "model_name": "LayoutModel",
      "state": {
       "width": "145px"
      }
     },
     "59513b1aa3f94c21ad4b94a31ab8b0a3": {
      "model_module": "@jupyter-widgets/controls",
      "model_module_version": "1.5.0",
      "model_name": "DescriptionStyleModel",
      "state": {
       "description_width": ""
      }
     },
     "63270d1d06cc48089bf9c09d9d2be0b2": {
      "model_module": "@jupyter-widgets/controls",
      "model_module_version": "1.5.0",
      "model_name": "HTMLModel",
      "state": {
       "layout": "IPY_MODEL_2546cb7e9c414dce9010acc61909c4f2",
       "style": "IPY_MODEL_50bf77ca48ac4a1aa7897ba01a5de52b",
       "value": "<h5>Status</h5>"
      }
     },
     "6550cfa80e59486d9d6f3864e836e2e3": {
      "model_module": "@jupyter-widgets/controls",
      "model_module_version": "1.5.0",
      "model_name": "GridBoxModel",
      "state": {
       "children": [
        "IPY_MODEL_c33e580ab95643469e93551867d49665"
       ],
       "layout": "IPY_MODEL_948adf1bad804c178d90225ad48506f5"
      }
     },
     "6b378191741e47e0a3225ca6093871e1": {
      "model_module": "@jupyter-widgets/base",
      "model_module_version": "1.2.0",
      "model_name": "LayoutModel",
      "state": {
       "width": "190px"
      }
     },
     "6f09adf08a4840cc81a55e34766842b4": {
      "model_module": "@jupyter-widgets/controls",
      "model_module_version": "1.5.0",
      "model_name": "DescriptionStyleModel",
      "state": {
       "description_width": ""
      }
     },
     "75ccaaafc2d84f69b6dc21ab19196234": {
      "model_module": "@jupyter-widgets/base",
      "model_module_version": "1.2.0",
      "model_name": "LayoutModel",
      "state": {
       "width": "95px"
      }
     },
     "769e4764a96942bda538cf152aaab809": {
      "model_module": "@jupyter-widgets/base",
      "model_module_version": "1.2.0",
      "model_name": "LayoutModel",
      "state": {
       "width": "70px"
      }
     },
     "80757ab10da54c22a3d214350f254edc": {
      "model_module": "@jupyter-widgets/base",
      "model_module_version": "1.2.0",
      "model_name": "LayoutModel",
      "state": {
       "margin": "0px 0px 10px 0px"
      }
     },
     "83eb6d87d74f4b5a8c7ee9938c48b424": {
      "model_module": "@jupyter-widgets/controls",
      "model_module_version": "1.5.0",
      "model_name": "DescriptionStyleModel",
      "state": {
       "description_width": ""
      }
     },
     "948adf1bad804c178d90225ad48506f5": {
      "model_module": "@jupyter-widgets/base",
      "model_module_version": "1.2.0",
      "model_name": "LayoutModel",
      "state": {
       "grid_template_areas": "\n                                       \". . . . right \"\n                                        ",
       "grid_template_columns": "20% 20% 20% 20% 20%",
       "width": "100%"
      }
     },
     "9f250e1ea67649e4b4c7b4f888aecf2b": {
      "model_module": "@jupyter-widgets/base",
      "model_module_version": "1.2.0",
      "model_name": "LayoutModel",
      "state": {
       "margin": "0px 0px 10px 0px"
      }
     },
     "9f6b006aab1940ffa28b24cbe67c667a": {
      "model_module": "@jupyter-widgets/base",
      "model_module_version": "1.2.0",
      "model_name": "LayoutModel",
      "state": {
       "width": "190px"
      }
     },
     "a6a93feed6f34d698955bf0d555ad4f2": {
      "model_module": "@jupyter-widgets/controls",
      "model_module_version": "1.5.0",
      "model_name": "HBoxModel",
      "state": {
       "children": [
        "IPY_MODEL_0651725c5c7f452db9b823ffc111e2ad",
        "IPY_MODEL_00f65e5d2b6a4f2ebdd3ea7bf1816396",
        "IPY_MODEL_63270d1d06cc48089bf9c09d9d2be0b2",
        "IPY_MODEL_35595a2c5b6b4adbb72737c24fb406a1",
        "IPY_MODEL_ecfca35caf684a528f251567aa60faf0"
       ],
       "layout": "IPY_MODEL_d874ae128e7543039e4b4bb094189bdd"
      }
     },
     "ab8d3f9820d34347b017cfc1ff23ec40": {
      "model_module": "@jupyter-widgets/controls",
      "model_module_version": "1.5.0",
      "model_name": "HBoxModel",
      "state": {
       "children": [
        "IPY_MODEL_43ad23e71d7047c9a81ef49101be2d0b",
        "IPY_MODEL_f8621e2e21f5487c8e3aa0075a47b864",
        "IPY_MODEL_18031b72da404c8195cec5b247465572",
        "IPY_MODEL_48e06f4dca0f47229f10924d5cea3ad3",
        "IPY_MODEL_3740014063694ad7983e910a8b702b31"
       ],
       "layout": "IPY_MODEL_fc1ee033c6b84996a0429e914c95b0d7"
      }
     },
     "c1417f5390bb47dcad78b2e5bd1e72ae": {
      "model_module": "@jupyter-widgets/controls",
      "model_module_version": "1.5.0",
      "model_name": "DescriptionStyleModel",
      "state": {
       "description_width": ""
      }
     },
     "c33e580ab95643469e93551867d49665": {
      "model_module": "@jupyter-widgets/controls",
      "model_module_version": "1.5.0",
      "model_name": "ButtonModel",
      "state": {
       "button_style": "primary",
       "description": "Clear",
       "layout": "IPY_MODEL_3bee1897f3f6452aa417017597281c77",
       "style": "IPY_MODEL_26d35870fdcb4ea6a69e0674db777280"
      }
     },
     "d4877818fe804924b05dcc21d3c01419": {
      "model_module": "@jupyter-widgets/base",
      "model_module_version": "1.2.0",
      "model_name": "LayoutModel",
      "state": {
       "width": "70px"
      }
     },
     "d874ae128e7543039e4b4bb094189bdd": {
      "model_module": "@jupyter-widgets/base",
      "model_module_version": "1.2.0",
      "model_name": "LayoutModel",
      "state": {
       "margin": "0px 0px 0px 37px",
       "width": "600px"
      }
     },
     "dffe60728f0e408f98cea8d1352cac9e": {
      "model_module": "@jupyter-widgets/controls",
      "model_module_version": "1.5.0",
      "model_name": "ButtonModel",
      "state": {
       "button_style": "primary",
       "description": "Clear",
       "layout": "IPY_MODEL_ed3e23d6022a457999199546f40559a3",
       "style": "IPY_MODEL_1fcae7b3f66e499cb74e6e47c820e1ef"
      }
     },
     "e674416893104faa8d49d6663b8c85ca": {
      "model_module": "@jupyter-widgets/base",
      "model_module_version": "1.2.0",
      "model_name": "LayoutModel",
      "state": {
       "grid_template_areas": "\n                                       \". . . . right \"\n                                        ",
       "grid_template_columns": "20% 20% 20% 20% 20%",
       "width": "100%"
      }
     },
     "e71cea15ef7842b4be015ffa2b2865e4": {
      "model_module": "@jupyter-widgets/controls",
      "model_module_version": "1.5.0",
      "model_name": "DescriptionStyleModel",
      "state": {
       "description_width": ""
      }
     },
     "eb1ae8e47730418f8bfdc08b57d14d79": {
      "model_module": "@jupyter-widgets/controls",
      "model_module_version": "1.5.0",
      "model_name": "DescriptionStyleModel",
      "state": {
       "description_width": ""
      }
     },
     "eb4d81a858274ab3b9abe71da0d501b3": {
      "model_module": "@jupyter-widgets/controls",
      "model_module_version": "1.5.0",
      "model_name": "DescriptionStyleModel",
      "state": {
       "description_width": ""
      }
     },
     "ecfca35caf684a528f251567aa60faf0": {
      "model_module": "@jupyter-widgets/controls",
      "model_module_version": "1.5.0",
      "model_name": "HTMLModel",
      "state": {
       "layout": "IPY_MODEL_043aa5de31da429db729d306e84678a4",
       "style": "IPY_MODEL_eb4d81a858274ab3b9abe71da0d501b3",
       "value": "<h5>Message</h5>"
      }
     },
     "ed3e23d6022a457999199546f40559a3": {
      "model_module": "@jupyter-widgets/base",
      "model_module_version": "1.2.0",
      "model_name": "LayoutModel",
      "state": {
       "grid_area": "right",
       "padding": "0px 0px 0px 0px",
       "width": "70px"
      }
     },
     "f2bb74504bda44f1ad1a0e86c50d054a": {
      "model_module": "@jupyter-widgets/controls",
      "model_module_version": "1.5.0",
      "model_name": "DescriptionStyleModel",
      "state": {
       "description_width": ""
      }
     },
     "f8621e2e21f5487c8e3aa0075a47b864": {
      "model_module": "@jupyter-widgets/controls",
      "model_module_version": "1.5.0",
      "model_name": "HTMLModel",
      "state": {
       "layout": "IPY_MODEL_f886bc1798b641b2af12a938c85ff5fb",
       "style": "IPY_MODEL_e71cea15ef7842b4be015ffa2b2865e4",
       "value": "<h5>Backend</h5>"
      }
     },
     "f886bc1798b641b2af12a938c85ff5fb": {
      "model_module": "@jupyter-widgets/base",
      "model_module_version": "1.2.0",
      "model_name": "LayoutModel",
      "state": {
       "width": "145px"
      }
     },
     "f8b4b4576b004c2bbf6a658dbb4bea11": {
      "model_module": "@jupyter-widgets/controls",
      "model_module_version": "1.5.0",
      "model_name": "GridBoxModel",
      "state": {
       "children": [
        "IPY_MODEL_dffe60728f0e408f98cea8d1352cac9e"
       ],
       "layout": "IPY_MODEL_e674416893104faa8d49d6663b8c85ca"
      }
     },
     "fc1ee033c6b84996a0429e914c95b0d7": {
      "model_module": "@jupyter-widgets/base",
      "model_module_version": "1.2.0",
      "model_name": "LayoutModel",
      "state": {
       "margin": "0px 0px 0px 37px",
       "width": "600px"
      }
     }
    },
    "version_major": 2,
    "version_minor": 0
   }
  }
 },
 "nbformat": 4,
 "nbformat_minor": 5
}
